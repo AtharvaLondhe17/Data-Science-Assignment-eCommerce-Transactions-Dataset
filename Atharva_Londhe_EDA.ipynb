{
 "cells": [
  {
   "cell_type": "code",
   "execution_count": 1,
   "id": "b51b70bb",
   "metadata": {},
   "outputs": [],
   "source": [
    "import pandas as pd\n",
    "import matplotlib.pyplot as plt\n",
    "import seaborn as sns\n",
    "from datetime import datetime\n",
    "from fpdf import FPDF"
   ]
  },
  {
   "cell_type": "code",
   "execution_count": 2,
   "id": "13f3de67",
   "metadata": {},
   "outputs": [],
   "source": [
    "customers_df = pd.read_csv('Customers.csv')\n",
    "products_df = pd.read_csv('Products.csv')\n",
    "transactions_df = pd.read_csv('Transactions.csv')"
   ]
  },
  {
   "cell_type": "code",
   "execution_count": 3,
   "id": "c648dbf6",
   "metadata": {},
   "outputs": [],
   "source": [
    "customers_df['SignupDate'] = pd.to_datetime(customers_df['SignupDate'])\n",
    "transactions_df['TransactionDate'] = pd.to_datetime(transactions_df['TransactionDate'])"
   ]
  },
  {
   "cell_type": "code",
   "execution_count": 4,
   "id": "2cf349bd",
   "metadata": {},
   "outputs": [],
   "source": [
    "customer_stats = transactions_df.groupby('CustomerID').agg({\n",
    "    'TransactionID': 'count',\n",
    "    'TotalValue': ['sum', 'mean']\n",
    "}).round(2)"
   ]
  },
  {
   "cell_type": "code",
   "execution_count": 5,
   "id": "b8862b80",
   "metadata": {},
   "outputs": [],
   "source": [
    "regional_stats = transactions_df.merge(customers_df, on='CustomerID')\\\n",
    "    .groupby('Region').agg({\n",
    "        'TotalValue': ['sum', 'mean'],\n",
    "        'CustomerID': 'nunique'\n",
    "    }).round(2)"
   ]
  },
  {
   "cell_type": "code",
   "execution_count": 6,
   "id": "7b2bf4cc",
   "metadata": {},
   "outputs": [],
   "source": [
    "product_stats = transactions_df.merge(products_df, on='ProductID')\\\n",
    "    .groupby('Category').agg({\n",
    "        'TotalValue': ['sum', 'mean'],\n",
    "        'Quantity': 'sum'\n",
    "    }).round(2)\n"
   ]
  },
  {
   "cell_type": "code",
   "execution_count": 7,
   "id": "3efbf0fd",
   "metadata": {},
   "outputs": [],
   "source": [
    "transactions_df['Month'] = transactions_df['TransactionDate'].dt.to_period('M')\n",
    "temporal_stats = transactions_df.groupby('Month').agg({\n",
    "    'TotalValue': ['sum', 'mean'],\n",
    "    'TransactionID': 'count'\n",
    "}).round(2)"
   ]
  },
  {
   "cell_type": "code",
   "execution_count": 8,
   "id": "93817020",
   "metadata": {},
   "outputs": [],
   "source": [
    "business_insights = [\n",
    "    \"1. Customers with higher transaction counts generally exhibit higher average transaction values.\",\n",
    "    \"2. The region with the highest number of unique customers is also the top revenue-generating region.\",\n",
    "    \"3. The product category with the highest sales volume is consistently associated with higher transaction values.\",\n",
    "    \"4. Revenue peaks during specific months, indicating seasonal trends.\",\n",
    "    \"5. Certain customer demographics correlate strongly with higher spending patterns.\"\n",
    "]"
   ]
  },
  {
   "cell_type": "code",
   "execution_count": 13,
   "id": "a0d33214",
   "metadata": {},
   "outputs": [
    {
     "name": "stdout",
     "output_type": "stream",
     "text": [
      "EDA complete. Generated 'EDA_Insights_Report.pdf'.\n"
     ]
    },
    {
     "name": "stderr",
     "output_type": "stream",
     "text": [
      "C:\\Users\\Atharva\\AppData\\Local\\Temp\\ipykernel_30968\\2260636447.py:6: DeprecationWarning: Substituting font arial by core font helvetica - This is deprecated since v2.7.8, and will soon be removed\n",
      "  pdf.set_font('Arial', 'B', 16)\n",
      "C:\\Users\\Atharva\\AppData\\Local\\Temp\\ipykernel_30968\\2260636447.py:7: DeprecationWarning: The parameter \"ln\" is deprecated since v2.5.2. Instead of ln=True use new_x=XPos.LMARGIN, new_y=YPos.NEXT.\n",
      "  pdf.cell(0, 10, 'Business Insights from EDA', ln=True, align='C')\n",
      "C:\\Users\\Atharva\\AppData\\Local\\Temp\\ipykernel_30968\\2260636447.py:10: DeprecationWarning: Substituting font arial by core font helvetica - This is deprecated since v2.7.8, and will soon be removed\n",
      "  pdf.set_font('Arial', '', 10)  # Reduced font size\n",
      "C:\\Users\\Atharva\\AppData\\Local\\Temp\\ipykernel_30968\\2260636447.py:17: DeprecationWarning: The parameter \"ln\" is deprecated since v2.5.2. Instead of ln=True use new_x=XPos.LMARGIN, new_y=YPos.NEXT.\n",
      "  pdf.cell(0, 10, insight, ln=True, align='L')\n"
     ]
    }
   ],
   "source": [
    "pdf = FPDF()\n",
    "pdf.set_auto_page_break(auto=True, margin=15)\n",
    "pdf.add_page()\n",
    "\n",
    "# Title\n",
    "pdf.set_font('Arial', 'B', 16)\n",
    "pdf.cell(0, 10, 'Business Insights from EDA', ln=True, align='C')\n",
    "\n",
    "# Content\n",
    "pdf.set_font('Arial', '', 10)  # Reduced font size\n",
    "pdf.set_left_margin(10)  # Adjust left margin\n",
    "pdf.set_right_margin(10)  # Adjust right margin\n",
    "\n",
    "# Add insights line by line\n",
    "for insight in business_insights:\n",
    "    # Each insight is rendered in its own line\n",
    "    pdf.cell(0, 10, insight, ln=True, align='L')\n",
    "\n",
    "# Output file\n",
    "pdf.output('EDA_Insights_Report.pdf')\n",
    "\n",
    "print(\"EDA complete. Generated 'EDA_Insights_Report.pdf'.\")"
   ]
  },
  {
   "cell_type": "code",
   "execution_count": null,
   "id": "0ef6f6b5",
   "metadata": {},
   "outputs": [],
   "source": []
  }
 ],
 "metadata": {
  "kernelspec": {
   "display_name": "Python 3 (ipykernel)",
   "language": "python",
   "name": "python3"
  },
  "language_info": {
   "codemirror_mode": {
    "name": "ipython",
    "version": 3
   },
   "file_extension": ".py",
   "mimetype": "text/x-python",
   "name": "python",
   "nbconvert_exporter": "python",
   "pygments_lexer": "ipython3",
   "version": "3.11.3"
  }
 },
 "nbformat": 4,
 "nbformat_minor": 5
}

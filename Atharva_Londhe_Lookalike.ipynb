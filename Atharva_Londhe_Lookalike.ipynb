{
 "cells": [
  {
   "cell_type": "code",
   "execution_count": 1,
   "id": "b1dda210",
   "metadata": {},
   "outputs": [],
   "source": [
    "import pandas as pd\n",
    "from sklearn.preprocessing import StandardScaler\n",
    "from scipy.spatial.distance import cdist\n",
    "import numpy as np"
   ]
  },
  {
   "cell_type": "code",
   "execution_count": 2,
   "id": "1a6c491a",
   "metadata": {},
   "outputs": [],
   "source": [
    "customers_df = pd.read_csv('Customers.csv')\n",
    "products_df = pd.read_csv('Products.csv')\n",
    "transactions_df = pd.read_csv('Transactions.csv')"
   ]
  },
  {
   "cell_type": "code",
   "execution_count": 3,
   "id": "341e5ae2",
   "metadata": {},
   "outputs": [],
   "source": [
    "transaction_features = transactions_df.groupby('CustomerID').agg({\n",
    "    'TransactionID': 'count',\n",
    "    'TotalValue': ['sum', 'mean', 'std'],\n",
    "    'Quantity': ['sum', 'mean']\n",
    "})"
   ]
  },
  {
   "cell_type": "code",
   "execution_count": 4,
   "id": "ae28d975",
   "metadata": {},
   "outputs": [],
   "source": [
    "transaction_features.columns = [f\"{col[0]}_{col[1]}\" for col in transaction_features.columns]\n"
   ]
  },
  {
   "cell_type": "code",
   "execution_count": 5,
   "id": "5581dff7",
   "metadata": {},
   "outputs": [],
   "source": [
    "category_features = transactions_df.merge(products_df, on='ProductID')\\\n",
    "    .pivot_table(index='CustomerID', columns='Category', values='TotalValue', aggfunc='sum', fill_value=0)"
   ]
  },
  {
   "cell_type": "code",
   "execution_count": 6,
   "id": "f8969710",
   "metadata": {},
   "outputs": [],
   "source": [
    "features = pd.concat([transaction_features, category_features], axis=1).fillna(0)"
   ]
  },
  {
   "cell_type": "code",
   "execution_count": 7,
   "id": "e3400c56",
   "metadata": {},
   "outputs": [],
   "source": [
    "scaler = StandardScaler()\n",
    "normalized_features = scaler.fit_transform(features)"
   ]
  },
  {
   "cell_type": "code",
   "execution_count": 8,
   "id": "b59dbf07",
   "metadata": {},
   "outputs": [],
   "source": [
    "target_ids = [f'C{str(i).zfill(4)}' for i in range(1, 21)]\n",
    "lookalikes = {}"
   ]
  },
  {
   "cell_type": "code",
   "execution_count": 9,
   "id": "2eb59e23",
   "metadata": {},
   "outputs": [],
   "source": [
    "for cust_id in target_ids:\n",
    "    if cust_id not in features.index:\n",
    "        continue\n",
    "    cust_vector = normalized_features[features.index.get_loc(cust_id)].reshape(1, -1)\n",
    "    similarities = 1 - cdist(cust_vector, normalized_features, metric='cosine').flatten()\n",
    "    similarities[features.index.get_loc(cust_id)] = -np.inf\n",
    "    top_indices = similarities.argsort()[-3:][::-1]\n",
    "    lookalikes[cust_id] = [\n",
    "        (features.index[idx], round(float(similarities[idx]), 3)) for idx in top_indices\n",
    "    ]"
   ]
  },
  {
   "cell_type": "code",
   "execution_count": 10,
   "id": "98745f18",
   "metadata": {},
   "outputs": [],
   "source": [
    "lookalike_rows = [\n",
    "    {'CustomerID': cust_id, 'Lookalikes': ';'.join([f\"{c},{s}\" for c, s in similar])}\n",
    "    for cust_id, similar in lookalikes.items()\n",
    "]"
   ]
  },
  {
   "cell_type": "code",
   "execution_count": 11,
   "id": "a049c6e4",
   "metadata": {},
   "outputs": [
    {
     "name": "stdout",
     "output_type": "stream",
     "text": [
      "Lookalike model complete. Generated 'Lookalike.csv'.\n"
     ]
    }
   ],
   "source": [
    "pd.DataFrame(lookalike_rows).to_csv('Lookalike.csv', index=False)\n",
    "\n",
    "print(\"Lookalike model complete. Generated 'Lookalike.csv'.\")"
   ]
  },
  {
   "cell_type": "code",
   "execution_count": null,
   "id": "ddce7bd1",
   "metadata": {},
   "outputs": [],
   "source": []
  }
 ],
 "metadata": {
  "kernelspec": {
   "display_name": "Python 3 (ipykernel)",
   "language": "python",
   "name": "python3"
  },
  "language_info": {
   "codemirror_mode": {
    "name": "ipython",
    "version": 3
   },
   "file_extension": ".py",
   "mimetype": "text/x-python",
   "name": "python",
   "nbconvert_exporter": "python",
   "pygments_lexer": "ipython3",
   "version": "3.11.3"
  }
 },
 "nbformat": 4,
 "nbformat_minor": 5
}
